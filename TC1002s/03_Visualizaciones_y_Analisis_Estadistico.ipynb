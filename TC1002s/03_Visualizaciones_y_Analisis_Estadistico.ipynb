{
 "cells": [
  {
   "cell_type": "markdown",
   "metadata": {},
   "source": [
    "https://seaborn.pydata.org/examples/horizontal_boxplot.html\n",
    "\n",
    "https://seaborn.pydata.org/examples/grouped_barplot.html\n",
    "\n",
    "https://seaborn.pydata.org/examples/heat_scatter.html\n",
    "\n",
    "https://seaborn.pydata.org/examples/histogram_stacked.html\n",
    "\n",
    "https://seaborn.pydata.org/examples/many_pairwise_correlations.html"
   ]
  }
 ],
 "metadata": {
  "kernelspec": {
   "display_name": "Python 3",
   "language": "python",
   "name": "python3"
  },
  "language_info": {
   "codemirror_mode": {
    "name": "ipython",
    "version": 3
   },
   "file_extension": ".py",
   "mimetype": "text/x-python",
   "name": "python",
   "nbconvert_exporter": "python",
   "pygments_lexer": "ipython3",
   "version": "3.8.3"
  }
 },
 "nbformat": 4,
 "nbformat_minor": 4
}
